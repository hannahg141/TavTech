{
 "cells": [
  {
   "cell_type": "markdown",
   "metadata": {
    "collapsed": true
   },
   "source": [
    "Pandas information\n",
    "https://pandas.pydata.org/pandas-docs/stable/10min.html"
   ]
  },
  {
   "cell_type": "code",
   "execution_count": 1,
   "metadata": {
    "collapsed": true
   },
   "outputs": [],
   "source": [
    "%matplotlib inline\n",
    "import pandas as pd\n",
    "import matplotlib.pyplot as plt"
   ]
  },
  {
   "cell_type": "code",
   "execution_count": 2,
   "metadata": {
    "collapsed": true
   },
   "outputs": [],
   "source": [
    "data = pd.read_csv('/users/hannahgrossman/downloads/mbti_1.csv')"
   ]
  },
  {
   "cell_type": "code",
   "execution_count": 4,
   "metadata": {},
   "outputs": [
    {
     "data": {
      "text/html": [
       "<div>\n",
       "<style>\n",
       "    .dataframe thead tr:only-child th {\n",
       "        text-align: right;\n",
       "    }\n",
       "\n",
       "    .dataframe thead th {\n",
       "        text-align: left;\n",
       "    }\n",
       "\n",
       "    .dataframe tbody tr th {\n",
       "        vertical-align: top;\n",
       "    }\n",
       "</style>\n",
       "<table border=\"1\" class=\"dataframe\">\n",
       "  <thead>\n",
       "    <tr style=\"text-align: right;\">\n",
       "      <th></th>\n",
       "      <th>type</th>\n",
       "      <th>posts</th>\n",
       "    </tr>\n",
       "  </thead>\n",
       "  <tbody>\n",
       "    <tr>\n",
       "      <th>0</th>\n",
       "      <td>INFJ</td>\n",
       "      <td>'http://www.youtube.com/watch?v=qsXHcwe3krw|||...</td>\n",
       "    </tr>\n",
       "    <tr>\n",
       "      <th>1</th>\n",
       "      <td>ENTP</td>\n",
       "      <td>'I'm finding the lack of me in these posts ver...</td>\n",
       "    </tr>\n",
       "    <tr>\n",
       "      <th>2</th>\n",
       "      <td>INTP</td>\n",
       "      <td>'Good one  _____   https://www.youtube.com/wat...</td>\n",
       "    </tr>\n",
       "    <tr>\n",
       "      <th>3</th>\n",
       "      <td>INTJ</td>\n",
       "      <td>'Dear INTP,   I enjoyed our conversation the o...</td>\n",
       "    </tr>\n",
       "    <tr>\n",
       "      <th>4</th>\n",
       "      <td>ENTJ</td>\n",
       "      <td>'You're fired.|||That's another silly misconce...</td>\n",
       "    </tr>\n",
       "  </tbody>\n",
       "</table>\n",
       "</div>"
      ],
      "text/plain": [
       "   type                                              posts\n",
       "0  INFJ  'http://www.youtube.com/watch?v=qsXHcwe3krw|||...\n",
       "1  ENTP  'I'm finding the lack of me in these posts ver...\n",
       "2  INTP  'Good one  _____   https://www.youtube.com/wat...\n",
       "3  INTJ  'Dear INTP,   I enjoyed our conversation the o...\n",
       "4  ENTJ  'You're fired.|||That's another silly misconce..."
      ]
     },
     "execution_count": 4,
     "metadata": {},
     "output_type": "execute_result"
    }
   ],
   "source": [
    "data.head()"
   ]
  },
  {
   "cell_type": "markdown",
   "metadata": {},
   "source": [
    "TYPE of personality, with POSTS"
   ]
  },
  {
   "cell_type": "markdown",
   "metadata": {},
   "source": [
    "Introverted or Extroverted?"
   ]
  },
  {
   "cell_type": "code",
   "execution_count": 6,
   "metadata": {
    "collapsed": true
   },
   "outputs": [],
   "source": [
    "def isExtrovert(input_str):\n",
    "    if input_str[0] == \"I\":\n",
    "        return False\n",
    "    elif input_str[0] == \"E\":\n",
    "        return True\n",
    "    else:\n",
    "        raise Exception(\"Neither I or E found in:\" + input_str[0])"
   ]
  },
  {
   "cell_type": "markdown",
   "metadata": {},
   "source": [
    "since data is coming in as the 4 letter personality type code, we can access the E or the I via indexing at 0"
   ]
  },
  {
   "cell_type": "code",
   "execution_count": null,
   "metadata": {
    "collapsed": true
   },
   "outputs": [],
   "source": [
    "data[\"extroverted\"] = data[\"type\"].map(isExtrovert)"
   ]
  },
  {
   "cell_type": "markdown",
   "metadata": {},
   "source": [
    "What percent of the data is introverted vs extroverted?"
   ]
  },
  {
   "cell_type": "code",
   "execution_count": 11,
   "metadata": {},
   "outputs": [
    {
     "data": {
      "text/plain": [
       "Text(0.5,1,'Percent Extroverted')"
      ]
     },
     "execution_count": 11,
     "metadata": {},
     "output_type": "execute_result"
    },
    {
     "data": {
      "image/png": "[encoded data removed]",
      "text/plain": [
       "<matplotlib.figure.Figure at 0x1095f0320>"
      ]
     },
     "metadata": {},
     "output_type": "display_data"
    }
   ],
   "source": [
    "data.groupby(\"extroverted\").count()[\"posts\"].plot.pie(autopct='%1.0f%%')\n",
    "plt.title(\"Percent Extroverted\")"
   ]
  },
  {
   "cell_type": "code",
   "execution_count": 12,
   "metadata": {
    "collapsed": true
   },
   "outputs": [],
   "source": [
    "sample = data[data.extroverted].sample(1999) #to get the number of samples that we want\n",
    "sample = sample.append(data[~data.extroverted].sample(1999))"
   ]
  },
  {
   "cell_type": "code",
   "execution_count": 14,
   "metadata": {},
   "outputs": [
    {
     "data": {
      "text/html": [
       "<div>\n",
       "<style>\n",
       "    .dataframe thead tr:only-child th {\n",
       "        text-align: right;\n",
       "    }\n",
       "\n",
       "    .dataframe thead th {\n",
       "        text-align: left;\n",
       "    }\n",
       "\n",
       "    .dataframe tbody tr th {\n",
       "        vertical-align: top;\n",
       "    }\n",
       "</style>\n",
       "<table border=\"1\" class=\"dataframe\">\n",
       "  <thead>\n",
       "    <tr style=\"text-align: right;\">\n",
       "      <th></th>\n",
       "      <th>type</th>\n",
       "      <th>posts</th>\n",
       "    </tr>\n",
       "    <tr>\n",
       "      <th>extroverted</th>\n",
       "      <th></th>\n",
       "      <th></th>\n",
       "    </tr>\n",
       "  </thead>\n",
       "  <tbody>\n",
       "    <tr>\n",
       "      <th>False</th>\n",
       "      <td>1999</td>\n",
       "      <td>1999</td>\n",
       "    </tr>\n",
       "    <tr>\n",
       "      <th>True</th>\n",
       "      <td>1999</td>\n",
       "      <td>1999</td>\n",
       "    </tr>\n",
       "  </tbody>\n",
       "</table>\n",
       "</div>"
      ],
      "text/plain": [
       "             type  posts\n",
       "extroverted             \n",
       "False        1999   1999\n",
       "True         1999   1999"
      ]
     },
     "execution_count": 14,
     "metadata": {},
     "output_type": "execute_result"
    }
   ],
   "source": [
    "sample.groupby(\"extroverted\").count()"
   ]
  },
  {
   "cell_type": "code",
   "execution_count": 25,
   "metadata": {
    "collapsed": true
   },
   "outputs": [],
   "source": [
    "from nltk.tokenize import wordpunct_tokenize \n",
    "import re\n",
    "from nltk.corpus import stopwords"
   ]
  },
  {
   "cell_type": "markdown",
   "metadata": {},
   "source": [
    "nltk.tokenize divides a string into substrings\n",
    "    wordpunct  tokenizes a text into a sequence of alphabetic and non, REGEX\n",
    "    \n",
    "    \n",
    "nltk.corpus STOPWORDS removes stopwords -- boring filler words"
   ]
  },
  {
   "cell_type": "code",
   "execution_count": 27,
   "metadata": {},
   "outputs": [],
   "source": [
    "stopwords = stopwords.words('english')"
   ]
  },
  {
   "cell_type": "code",
   "execution_count": 28,
   "metadata": {
    "collapsed": true
   },
   "outputs": [],
   "source": [
    "sample = sample.reset_index() #reorganizes the data to indexing from0"
   ]
  },
  {
   "cell_type": "code",
   "execution_count": 40,
   "metadata": {
    "collapsed": true
   },
   "outputs": [],
   "source": [
    "def tokenize(posts):\n",
    "    posts = posts.replace(\"|||\", \" \") #replace all ||| with \" \"\n",
    "    posts = re.sub(r'http\\S+', \"\", posts) #this removes URL's\n",
    "    posts = posts.lower() #make all lowercase\n",
    "    posts = wordpunct_tokenize(posts) #splits words, returns in an array\n",
    "    return [x for x in posts if not x in stopwords] #return words not in stopwords"
   ]
  },
  {
   "cell_type": "code",
   "execution_count": 41,
   "metadata": {},
   "outputs": [],
   "source": [
    "sample['tokens'] = sample['posts'].map(tokenize)"
   ]
  },
  {
   "cell_type": "code",
   "execution_count": 42,
   "metadata": {},
   "outputs": [],
   "source": [
    "def getFrequencies(df):\n",
    "    df = df[\"tokens\"].map(set).map(list) \n",
    "    df = df.sum() #concatenate tokens\n",
    "    return pd.Series(df).value_counts() #valuecounts: how many users used a given word"
   ]
  },
  {
   "cell_type": "code",
   "execution_count": 43,
   "metadata": {},
   "outputs": [
    {
     "data": {
      "text/plain": [
       "'         1999\n",
       ".         1998\n",
       ",         1996\n",
       "...       1996\n",
       "like      1985\n",
       "?         1957\n",
       "think     1935\n",
       "people    1924\n",
       "one       1921\n",
       "know      1906\n",
       ":         1888\n",
       "-         1886\n",
       "get       1862\n",
       "would     1856\n",
       "really    1832\n",
       "(         1823\n",
       "time      1814\n",
       "well      1766\n",
       "much      1732\n",
       "!         1711\n",
       "dtype: int64"
      ]
     },
     "execution_count": 43,
     "metadata": {},
     "output_type": "execute_result"
    }
   ],
   "source": [
    "extro_frequencies = getFrequencies(sample[sample.extroverted])\n",
    "intro_frequencies = getFrequencies(sample[~sample.extroverted])\n",
    "\n",
    "extro_frequencies.head(20)"
   ]
  },
  {
   "cell_type": "code",
   "execution_count": 44,
   "metadata": {
    "collapsed": true
   },
   "outputs": [],
   "source": [
    "frequenices = pd.DataFrame(extro_frequencies, columns=['extrovert_count'])"
   ]
  },
  {
   "cell_type": "code",
   "execution_count": 45,
   "metadata": {
    "collapsed": true
   },
   "outputs": [],
   "source": [
    "frequencies = frequenices.join(pd.DataFrame(intro_frequencies, columns=['introvert_count'])).fillna(0)"
   ]
  },
  {
   "cell_type": "code",
   "execution_count": 46,
   "metadata": {
    "collapsed": true
   },
   "outputs": [],
   "source": [
    "frequencies = frequencies / 1999 * 100 #to get percentages"
   ]
  },
  {
   "cell_type": "code",
   "execution_count": 47,
   "metadata": {
    "collapsed": true
   },
   "outputs": [],
   "source": [
    "#highest difference in percentages\n",
    "frequencies['difference'] = frequencies['extrovert_count'] - frequencies['introvert_count']"
   ]
  },
  {
   "cell_type": "code",
   "execution_count": 48,
   "metadata": {},
   "outputs": [
    {
     "data": {
      "text/html": [
       "<div>\n",
       "<style>\n",
       "    .dataframe thead tr:only-child th {\n",
       "        text-align: right;\n",
       "    }\n",
       "\n",
       "    .dataframe thead th {\n",
       "        text-align: left;\n",
       "    }\n",
       "\n",
       "    .dataframe tbody tr th {\n",
       "        vertical-align: top;\n",
       "    }\n",
       "</style>\n",
       "<table border=\"1\" class=\"dataframe\">\n",
       "  <thead>\n",
       "    <tr style=\"text-align: right;\">\n",
       "      <th></th>\n",
       "      <th>extrovert_count</th>\n",
       "      <th>introvert_count</th>\n",
       "      <th>difference</th>\n",
       "    </tr>\n",
       "  </thead>\n",
       "  <tbody>\n",
       "    <tr>\n",
       "      <th>infps</th>\n",
       "      <td>14.507254</td>\n",
       "      <td>22.211106</td>\n",
       "      <td>-7.703852</td>\n",
       "    </tr>\n",
       "    <tr>\n",
       "      <th>music</th>\n",
       "      <td>27.813907</td>\n",
       "      <td>35.417709</td>\n",
       "      <td>-7.603802</td>\n",
       "    </tr>\n",
       "    <tr>\n",
       "      <th>infp</th>\n",
       "      <td>40.920460</td>\n",
       "      <td>48.474237</td>\n",
       "      <td>-7.553777</td>\n",
       "    </tr>\n",
       "    <tr>\n",
       "      <th>quiet</th>\n",
       "      <td>11.155578</td>\n",
       "      <td>18.109055</td>\n",
       "      <td>-6.953477</td>\n",
       "    </tr>\n",
       "    <tr>\n",
       "      <th>listening</th>\n",
       "      <td>11.255628</td>\n",
       "      <td>18.159080</td>\n",
       "      <td>-6.903452</td>\n",
       "    </tr>\n",
       "    <tr>\n",
       "      <th>books</th>\n",
       "      <td>14.907454</td>\n",
       "      <td>20.410205</td>\n",
       "      <td>-5.502751</td>\n",
       "    </tr>\n",
       "    <tr>\n",
       "      <th>others</th>\n",
       "      <td>48.424212</td>\n",
       "      <td>53.776888</td>\n",
       "      <td>-5.352676</td>\n",
       "    </tr>\n",
       "    <tr>\n",
       "      <th>years</th>\n",
       "      <td>50.675338</td>\n",
       "      <td>56.028014</td>\n",
       "      <td>-5.352676</td>\n",
       "    </tr>\n",
       "    <tr>\n",
       "      <th>feeling</th>\n",
       "      <td>43.771886</td>\n",
       "      <td>49.124562</td>\n",
       "      <td>-5.352676</td>\n",
       "    </tr>\n",
       "    <tr>\n",
       "      <th>intp</th>\n",
       "      <td>37.118559</td>\n",
       "      <td>42.371186</td>\n",
       "      <td>-5.252626</td>\n",
       "    </tr>\n",
       "    <tr>\n",
       "      <th>cold</th>\n",
       "      <td>12.856428</td>\n",
       "      <td>18.109055</td>\n",
       "      <td>-5.252626</td>\n",
       "    </tr>\n",
       "    <tr>\n",
       "      <th>different</th>\n",
       "      <td>51.025513</td>\n",
       "      <td>56.128064</td>\n",
       "      <td>-5.102551</td>\n",
       "    </tr>\n",
       "    <tr>\n",
       "      <th>death</th>\n",
       "      <td>11.705853</td>\n",
       "      <td>16.758379</td>\n",
       "      <td>-5.052526</td>\n",
       "    </tr>\n",
       "    <tr>\n",
       "      <th>thoughts</th>\n",
       "      <td>25.462731</td>\n",
       "      <td>30.465233</td>\n",
       "      <td>-5.002501</td>\n",
       "    </tr>\n",
       "    <tr>\n",
       "      <th>family</th>\n",
       "      <td>26.763382</td>\n",
       "      <td>31.715858</td>\n",
       "      <td>-4.952476</td>\n",
       "    </tr>\n",
       "    <tr>\n",
       "      <th>).</th>\n",
       "      <td>40.320160</td>\n",
       "      <td>45.272636</td>\n",
       "      <td>-4.952476</td>\n",
       "    </tr>\n",
       "    <tr>\n",
       "      <th>living</th>\n",
       "      <td>16.258129</td>\n",
       "      <td>21.160580</td>\n",
       "      <td>-4.902451</td>\n",
       "    </tr>\n",
       "    <tr>\n",
       "      <th>whether</th>\n",
       "      <td>20.310155</td>\n",
       "      <td>25.112556</td>\n",
       "      <td>-4.802401</td>\n",
       "    </tr>\n",
       "    <tr>\n",
       "      <th>days</th>\n",
       "      <td>27.963982</td>\n",
       "      <td>32.716358</td>\n",
       "      <td>-4.752376</td>\n",
       "    </tr>\n",
       "    <tr>\n",
       "      <th>without</th>\n",
       "      <td>38.519260</td>\n",
       "      <td>43.271636</td>\n",
       "      <td>-4.752376</td>\n",
       "    </tr>\n",
       "    <tr>\n",
       "      <th>games</th>\n",
       "      <td>13.206603</td>\n",
       "      <td>17.958979</td>\n",
       "      <td>-4.752376</td>\n",
       "    </tr>\n",
       "    <tr>\n",
       "      <th>afraid</th>\n",
       "      <td>11.755878</td>\n",
       "      <td>16.408204</td>\n",
       "      <td>-4.652326</td>\n",
       "    </tr>\n",
       "    <tr>\n",
       "      <th>sometimes</th>\n",
       "      <td>55.127564</td>\n",
       "      <td>59.729865</td>\n",
       "      <td>-4.602301</td>\n",
       "    </tr>\n",
       "    <tr>\n",
       "      <th>nature</th>\n",
       "      <td>13.356678</td>\n",
       "      <td>17.908954</td>\n",
       "      <td>-4.552276</td>\n",
       "    </tr>\n",
       "    <tr>\n",
       "      <th>subject</th>\n",
       "      <td>10.005003</td>\n",
       "      <td>14.557279</td>\n",
       "      <td>-4.552276</td>\n",
       "    </tr>\n",
       "  </tbody>\n",
       "</table>\n",
       "</div>"
      ],
      "text/plain": [
       "           extrovert_count  introvert_count  difference\n",
       "infps            14.507254        22.211106   -7.703852\n",
       "music            27.813907        35.417709   -7.603802\n",
       "infp             40.920460        48.474237   -7.553777\n",
       "quiet            11.155578        18.109055   -6.953477\n",
       "listening        11.255628        18.159080   -6.903452\n",
       "books            14.907454        20.410205   -5.502751\n",
       "others           48.424212        53.776888   -5.352676\n",
       "years            50.675338        56.028014   -5.352676\n",
       "feeling          43.771886        49.124562   -5.352676\n",
       "intp             37.118559        42.371186   -5.252626\n",
       "cold             12.856428        18.109055   -5.252626\n",
       "different        51.025513        56.128064   -5.102551\n",
       "death            11.705853        16.758379   -5.052526\n",
       "thoughts         25.462731        30.465233   -5.002501\n",
       "family           26.763382        31.715858   -4.952476\n",
       ").               40.320160        45.272636   -4.952476\n",
       "living           16.258129        21.160580   -4.902451\n",
       "whether          20.310155        25.112556   -4.802401\n",
       "days             27.963982        32.716358   -4.752376\n",
       "without          38.519260        43.271636   -4.752376\n",
       "games            13.206603        17.958979   -4.752376\n",
       "afraid           11.755878        16.408204   -4.652326\n",
       "sometimes        55.127564        59.729865   -4.602301\n",
       "nature           13.356678        17.908954   -4.552276\n",
       "subject          10.005003        14.557279   -4.552276"
      ]
     },
     "execution_count": 48,
     "metadata": {},
     "output_type": "execute_result"
    }
   ],
   "source": [
    "frequencies.sort_values(\"difference\").head(25)"
   ]
  },
  {
   "cell_type": "code",
   "execution_count": 49,
   "metadata": {},
   "outputs": [
    {
     "data": {
      "text/html": [
       "<div>\n",
       "<style>\n",
       "    .dataframe thead tr:only-child th {\n",
       "        text-align: right;\n",
       "    }\n",
       "\n",
       "    .dataframe thead th {\n",
       "        text-align: left;\n",
       "    }\n",
       "\n",
       "    .dataframe tbody tr th {\n",
       "        vertical-align: top;\n",
       "    }\n",
       "</style>\n",
       "<table border=\"1\" class=\"dataframe\">\n",
       "  <thead>\n",
       "    <tr style=\"text-align: right;\">\n",
       "      <th></th>\n",
       "      <th>extrovert_count</th>\n",
       "      <th>introvert_count</th>\n",
       "      <th>difference</th>\n",
       "    </tr>\n",
       "  </thead>\n",
       "  <tbody>\n",
       "    <tr>\n",
       "      <th>;)</th>\n",
       "      <td>19.509755</td>\n",
       "      <td>12.106053</td>\n",
       "      <td>7.403702</td>\n",
       "    </tr>\n",
       "    <tr>\n",
       "      <th>awesome</th>\n",
       "      <td>31.065533</td>\n",
       "      <td>23.411706</td>\n",
       "      <td>7.653827</td>\n",
       "    </tr>\n",
       "    <tr>\n",
       "      <th>guy</th>\n",
       "      <td>41.470735</td>\n",
       "      <td>33.666833</td>\n",
       "      <td>7.803902</td>\n",
       "    </tr>\n",
       "    <tr>\n",
       "      <th>!!</th>\n",
       "      <td>22.611306</td>\n",
       "      <td>14.057029</td>\n",
       "      <td>8.554277</td>\n",
       "    </tr>\n",
       "    <tr>\n",
       "      <th>fun</th>\n",
       "      <td>46.523262</td>\n",
       "      <td>35.867934</td>\n",
       "      <td>10.655328</td>\n",
       "    </tr>\n",
       "    <tr>\n",
       "      <th>lol</th>\n",
       "      <td>45.922961</td>\n",
       "      <td>35.067534</td>\n",
       "      <td>10.855428</td>\n",
       "    </tr>\n",
       "    <tr>\n",
       "      <th>estp</th>\n",
       "      <td>27.163582</td>\n",
       "      <td>15.357679</td>\n",
       "      <td>11.805903</td>\n",
       "    </tr>\n",
       "    <tr>\n",
       "      <th>enfj</th>\n",
       "      <td>31.065533</td>\n",
       "      <td>19.259630</td>\n",
       "      <td>11.805903</td>\n",
       "    </tr>\n",
       "    <tr>\n",
       "      <th>guys</th>\n",
       "      <td>47.823912</td>\n",
       "      <td>35.817909</td>\n",
       "      <td>12.006003</td>\n",
       "    </tr>\n",
       "    <tr>\n",
       "      <th>ne</th>\n",
       "      <td>31.265633</td>\n",
       "      <td>18.859430</td>\n",
       "      <td>12.406203</td>\n",
       "    </tr>\n",
       "    <tr>\n",
       "      <th>entj</th>\n",
       "      <td>35.117559</td>\n",
       "      <td>17.908954</td>\n",
       "      <td>17.208604</td>\n",
       "    </tr>\n",
       "    <tr>\n",
       "      <th>entps</th>\n",
       "      <td>24.612306</td>\n",
       "      <td>7.353677</td>\n",
       "      <td>17.258629</td>\n",
       "    </tr>\n",
       "    <tr>\n",
       "      <th>enfps</th>\n",
       "      <td>26.863432</td>\n",
       "      <td>9.404702</td>\n",
       "      <td>17.458729</td>\n",
       "    </tr>\n",
       "    <tr>\n",
       "      <th>enfp</th>\n",
       "      <td>57.428714</td>\n",
       "      <td>29.764882</td>\n",
       "      <td>27.663832</td>\n",
       "    </tr>\n",
       "    <tr>\n",
       "      <th>entp</th>\n",
       "      <td>52.726363</td>\n",
       "      <td>22.711356</td>\n",
       "      <td>30.015008</td>\n",
       "    </tr>\n",
       "  </tbody>\n",
       "</table>\n",
       "</div>"
      ],
      "text/plain": [
       "         extrovert_count  introvert_count  difference\n",
       ";)             19.509755        12.106053    7.403702\n",
       "awesome        31.065533        23.411706    7.653827\n",
       "guy            41.470735        33.666833    7.803902\n",
       "!!             22.611306        14.057029    8.554277\n",
       "fun            46.523262        35.867934   10.655328\n",
       "lol            45.922961        35.067534   10.855428\n",
       "estp           27.163582        15.357679   11.805903\n",
       "enfj           31.065533        19.259630   11.805903\n",
       "guys           47.823912        35.817909   12.006003\n",
       "ne             31.265633        18.859430   12.406203\n",
       "entj           35.117559        17.908954   17.208604\n",
       "entps          24.612306         7.353677   17.258629\n",
       "enfps          26.863432         9.404702   17.458729\n",
       "enfp           57.428714        29.764882   27.663832\n",
       "entp           52.726363        22.711356   30.015008"
      ]
     },
     "execution_count": 49,
     "metadata": {},
     "output_type": "execute_result"
    }
   ],
   "source": [
    "frequencies.sort_values('difference').tail(15)"
   ]
  },
  {
   "cell_type": "code",
   "execution_count": null,
   "metadata": {
    "collapsed": true
   },
   "outputs": [],
   "source": []
  }
 ],
 "metadata": {
  "kernelspec": {
   "display_name": "Python 3",
   "language": "python",
   "name": "python3"
  },
  "language_info": {
   "codemirror_mode": {
    "name": "ipython",
    "version": 3
   },
   "file_extension": ".py",
   "mimetype": "text/x-python",
   "name": "python",
   "nbconvert_exporter": "python",
   "pygments_lexer": "ipython3",
   "version": "3.6.3"
  }
 },
 "nbformat": 4,
 "nbformat_minor": 2
}
